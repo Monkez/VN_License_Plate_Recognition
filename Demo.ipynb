{
 "cells": [
  {
   "cell_type": "code",
   "execution_count": 17,
   "metadata": {
    "ExecuteTime": {
     "end_time": "2021-08-08T15:21:34.623751Z",
     "start_time": "2021-08-08T15:21:34.619256Z"
    }
   },
   "outputs": [],
   "source": [
    "import cv2\n",
    "import numpy as np\n",
    "from OpenCV_Yolo import *\n",
    "from modules.clova_text_recognition import predict"
   ]
  },
  {
   "cell_type": "code",
   "execution_count": 18,
   "metadata": {
    "ExecuteTime": {
     "end_time": "2021-08-08T15:21:35.295173Z",
     "start_time": "2021-08-08T15:21:35.259438Z"
    }
   },
   "outputs": [],
   "source": [
    "yolo_v4, classes = load_yolo(\"yolov4_tiny/cfg/yolov4-tiny-obj.cfg\", \n",
    "                    \"yolov4_tiny/backup/yolov4-tiny-obj_best.weights\", \n",
    "                    \"yolov4_tiny/data/obj.names\")\n",
    "ln = yolo_v4.getLayerNames()\n",
    "ln = [ln[i[0] - 1] for i in yolo_v4.getUnconnectedOutLayers()]\n",
    "colors = {\"plate\": (0, 255, 0)}\n",
    "print(classes)"
   ]
  },
  {
   "cell_type": "code",
   "execution_count": 19,
   "metadata": {
    "ExecuteTime": {
     "end_time": "2021-08-08T15:23:10.763763Z",
     "start_time": "2021-08-08T15:21:40.487202Z"
    }
   },
   "outputs": [],
   "source": [
    "wait = [0, 30, 15, 1]\n",
    "cap = cv2.VideoCapture(\"Videos/6.mp4\")\n",
    "t = 0\n",
    "while True:\n",
    "    ret, frame = cap.read()\n",
    "    if not ret:\n",
    "        break\n",
    "    ab_boxes, confidences, classIDs, idxs = make_prediction(\n",
    "        yolo_v4, ln, classes, frame, 0.35 , 0.35)\n",
    "    output = convert_ouput(ab_boxes, classes, confidences, classIDs, idxs, colors, [])\n",
    "    for out in output:\n",
    "        x1, y1, x2, y2 = out[\"pos\"]\n",
    "        cv2.rectangle(frame, (x1, y1), (x2, y2), (0, 255, 0), 2)\n",
    "        crop = frame[y1:y2, x1:x2]\n",
    "        if crop.shape[0]*crop.shape[1]>0:\n",
    "            text = predict([crop])[0]\n",
    "            cv2.putText(frame, text, (x1, y1 - 5), cv2.FONT_HERSHEY_SIMPLEX, 0.5, (255, 0, 0), 2)\n",
    "        \n",
    "    cv2.imshow(\"frame\", frame)\n",
    "    k = cv2.waitKey(wait[t])\n",
    "    if k == ord(\"p\"):\n",
    "        t = (t+1)%len(wait)\n",
    "    if k==32:\n",
    "        t = 0\n",
    "    if k == ord('q'):\n",
    "        break\n",
    "cv2.destroyAllWindows()"
   ]
  },
  {
   "cell_type": "code",
   "execution_count": 1,
   "metadata": {
    "ExecuteTime": {
     "end_time": "2021-08-08T15:30:05.158786Z",
     "start_time": "2021-08-08T15:30:05.141657Z"
    }
   },
   "outputs": [],
   "source": [
    "%config IPCompleter.greedy=False"
   ]
  }
 ],
 "metadata": {
  "kernelspec": {
   "display_name": "Python 3",
   "language": "python",
   "name": "python3"
  },
  "language_info": {
   "codemirror_mode": {
    "name": "ipython",
    "version": 3
   },
   "file_extension": ".py",
   "mimetype": "text/x-python",
   "name": "python",
   "nbconvert_exporter": "python",
   "pygments_lexer": "ipython3",
   "version": "3.6.13"
  }
 },
 "nbformat": 4,
 "nbformat_minor": 4
}

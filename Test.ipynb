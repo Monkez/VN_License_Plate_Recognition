{
 "cells": [
  {
   "cell_type": "code",
   "execution_count": null,
   "id": "8dc4311a",
   "metadata": {
    "ExecuteTime": {
     "end_time": "2021-08-09T02:09:34.873421Z",
     "start_time": "2021-08-09T02:09:34.497042Z"
    },
    "scrolled": true
   },
   "outputs": [],
   "source": [
    "import cv2\n",
    "import numpy as np\n",
    "from OpenCV_Yolo import *\n",
    "from glob import glob as gl\n",
    "from matplotlib import pyplot as plt"
   ]
  },
  {
   "cell_type": "code",
   "execution_count": null,
   "id": "b1295f5e",
   "metadata": {
    "ExecuteTime": {
     "end_time": "2021-08-09T02:09:39.343740Z",
     "start_time": "2021-08-09T02:09:35.999017Z"
    }
   },
   "outputs": [],
   "source": [
    "# Plate recognition\n",
    "from modules.clova_text_recognition import predict as plate_recognize\n",
    "\n",
    "\n",
    "# Plates detection\n",
    "yolo_v4, classes = load_yolo(\"yolov4_tiny/cfg/yolov4-tiny-obj.cfg\", \n",
    "                    \"yolov4_tiny/backup/yolov4-tiny-obj_best.weights\", \n",
    "                    \"yolov4_tiny/data/obj.names\")\n",
    "\n",
    "def plate_detect(img, yolo_v4, classes):\n",
    "    ln = yolo_v4.getLayerNames()\n",
    "    ln = [ln[i[0] - 1] for i in yolo_v4.getUnconnectedOutLayers()]\n",
    "    ab_boxes, confidences, classIDs, idxs = make_prediction(\n",
    "        yolo_v4, ln, classes, img, 0.25 , 0.35)\n",
    "    output = convert_ouput(ab_boxes, classes, confidences, classIDs, idxs, colors, [])\n",
    "    return output"
   ]
  },
  {
   "cell_type": "code",
   "execution_count": null,
   "id": "e614cf3a",
   "metadata": {
    "ExecuteTime": {
     "end_time": "2021-08-09T02:10:49.434841Z",
     "start_time": "2021-08-09T02:09:41.475747Z"
    },
    "scrolled": false
   },
   "outputs": [],
   "source": [
    "colors = {\"plate\": (0, 255, 0)}\n",
    "imgs = gl(\"Test/*.jpg\")\n",
    "for file in imgs:\n",
    "    img =cv2.imread(file)\n",
    "    \n",
    "    output = plate_detect(img, yolo_v4, classes)\n",
    "    texts = []\n",
    "    for out in output:\n",
    "        x1, y1, x2, y2 = out[\"pos\"]\n",
    "        cv2.rectangle(img, (x1, y1), (x2, y2), (0, 255, 0), 2)\n",
    "        crop = img[y1:y2, x1:x2]\n",
    "        if crop.shape[0]*crop.shape[1]>0:\n",
    "            text = plate_recognize([crop])[0]\n",
    "            cv2.putText(img, text, (x1, y1 - 5), cv2.FONT_HERSHEY_SIMPLEX, 1, (255, 2555, 0), 2)\n",
    "            texts.append(text)\n",
    "    plt.figure(figsize=(15, 10))\n",
    "    plt.imshow(img[:, :, ::-1])\n",
    "    plt.show()\n",
    "    print(file)\n",
    "    print(texts)\n",
    "    print(\"#\"*30)\n",
    "    "
   ]
  },
  {
   "cell_type": "code",
   "execution_count": null,
   "id": "275c6386",
   "metadata": {
    "ExecuteTime": {
     "end_time": "2021-08-08T15:29:55.449765Z",
     "start_time": "2021-08-08T15:29:55.431369Z"
    },
    "scrolled": true
   },
   "outputs": [],
   "source": [
    "%config IPCompleter.greedy=False"
   ]
  }
 ],
 "metadata": {
  "kernelspec": {
   "display_name": "Python 3",
   "language": "python",
   "name": "python3"
  },
  "language_info": {
   "codemirror_mode": {
    "name": "ipython",
    "version": 3
   },
   "file_extension": ".py",
   "mimetype": "text/x-python",
   "name": "python",
   "nbconvert_exporter": "python",
   "pygments_lexer": "ipython3",
   "version": "3.6.13"
  }
 },
 "nbformat": 4,
 "nbformat_minor": 5
}

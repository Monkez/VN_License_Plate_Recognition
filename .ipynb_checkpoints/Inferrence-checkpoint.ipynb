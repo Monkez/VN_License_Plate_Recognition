{
 "cells": [
  {
   "cell_type": "code",
   "execution_count": 5,
   "id": "8dc4311a",
   "metadata": {
    "ExecuteTime": {
     "end_time": "2021-08-08T15:25:09.800120Z",
     "start_time": "2021-08-08T15:25:09.786311Z"
    },
    "scrolled": true
   },
   "outputs": [],
   "source": [
    "import cv2\n",
    "import numpy as np\n",
    "from OpenCV_Yolo import *\n",
    "from modules.clova_text_recognition import predict\n",
    "from glob import glob as gl"
   ]
  },
  {
   "cell_type": "code",
   "execution_count": 6,
   "id": "2a3d717e",
   "metadata": {
    "ExecuteTime": {
     "end_time": "2021-08-08T15:25:10.470494Z",
     "start_time": "2021-08-08T15:25:10.435783Z"
    }
   },
   "outputs": [],
   "source": [
    "yolo_v4, classes = load_yolo(\"yolov4_tiny/cfg/yolov4-tiny-obj.cfg\", \n",
    "                    \"yolov4_tiny/backup/yolov4-tiny-obj_best.weights\", \n",
    "                    \"yolov4_tiny/data/obj.names\")\n",
    "ln = yolo_v4.getLayerNames()\n",
    "ln = [ln[i[0] - 1] for i in yolo_v4.getUnconnectedOutLayers()]"
   ]
  },
  {
   "cell_type": "code",
   "execution_count": 7,
   "id": "e614cf3a",
   "metadata": {
    "ExecuteTime": {
     "end_time": "2021-08-08T15:25:11.062751Z",
     "start_time": "2021-08-08T15:25:10.954718Z"
    },
    "scrolled": false
   },
   "outputs": [
    {
     "ename": "NameError",
     "evalue": "name 'ab_boxes' is not defined",
     "output_type": "error",
     "traceback": [
      "\u001b[1;31m---------------------------------------------------------------------------\u001b[0m",
      "\u001b[1;31mNameError\u001b[0m                                 Traceback (most recent call last)",
      "\u001b[1;32m<ipython-input-7-d3f4a6918eb7>\u001b[0m in \u001b[0;36m<module>\u001b[1;34m\u001b[0m\n\u001b[0;32m      4\u001b[0m     b_boxes, confidences, classIDs, idxs = make_prediction(\n\u001b[0;32m      5\u001b[0m         yolo_v4, ln, classes, img, 0.35 , 0.35)\n\u001b[1;32m----> 6\u001b[1;33m     \u001b[0moutput\u001b[0m \u001b[1;33m=\u001b[0m \u001b[0mconvert_ouput\u001b[0m\u001b[1;33m(\u001b[0m\u001b[0mab_boxes\u001b[0m\u001b[1;33m,\u001b[0m \u001b[0mclasses\u001b[0m\u001b[1;33m,\u001b[0m \u001b[0mconfidences\u001b[0m\u001b[1;33m,\u001b[0m \u001b[0mclassIDs\u001b[0m\u001b[1;33m,\u001b[0m \u001b[0midxs\u001b[0m\u001b[1;33m,\u001b[0m \u001b[0mcolors\u001b[0m\u001b[1;33m,\u001b[0m \u001b[1;33m[\u001b[0m\u001b[1;33m]\u001b[0m\u001b[1;33m)\u001b[0m\u001b[1;33m\u001b[0m\u001b[1;33m\u001b[0m\u001b[0m\n\u001b[0m\u001b[0;32m      7\u001b[0m     \u001b[1;32mfor\u001b[0m \u001b[0mout\u001b[0m \u001b[1;32min\u001b[0m \u001b[0moutput\u001b[0m\u001b[1;33m:\u001b[0m\u001b[1;33m\u001b[0m\u001b[1;33m\u001b[0m\u001b[0m\n\u001b[0;32m      8\u001b[0m         \u001b[0mx1\u001b[0m\u001b[1;33m,\u001b[0m \u001b[0my1\u001b[0m\u001b[1;33m,\u001b[0m \u001b[0mx2\u001b[0m\u001b[1;33m,\u001b[0m \u001b[0my2\u001b[0m \u001b[1;33m=\u001b[0m \u001b[0mout\u001b[0m\u001b[1;33m[\u001b[0m\u001b[1;34m\"pos\"\u001b[0m\u001b[1;33m]\u001b[0m\u001b[1;33m\u001b[0m\u001b[1;33m\u001b[0m\u001b[0m\n",
      "\u001b[1;31mNameError\u001b[0m: name 'ab_boxes' is not defined"
     ]
    }
   ],
   "source": [
    "imgs = gl(\"Test/*.jpg\")\n",
    "for img in imgs:\n",
    "    img =cv2.imread(img)\n",
    "    b_boxes, confidences, classIDs, idxs = make_prediction(\n",
    "        yolo_v4, ln, classes, img, 0.35 , 0.35)\n",
    "    output = convert_ouput(ab_boxes, classes, confidences, classIDs, idxs, colors, [])\n",
    "    for out in output:\n",
    "        x1, y1, x2, y2 = out[\"pos\"]\n",
    "        cv2.rectangle(img, (x1, y1), (x2, y2), (0, 255, 0), 2)\n",
    "        crop = frame[y1:y2, x1:x2]\n",
    "        if crop.shape[0]*crop.shape[1]>0:\n",
    "            text = predict([crop])[0]\n",
    "            cv2.putText(img, text, (x1, y1 - 5), cv2.FONT_HERSHEY_SIMPLEX, 0.5, (255, 0, 0), 2)\n",
    "        \n",
    "    plt.imshow(img[:, :, ::-1])\n",
    "    plt.show()\n",
    "    print(text)"
   ]
  },
  {
   "cell_type": "code",
   "execution_count": 10,
   "id": "275c6386",
   "metadata": {
    "ExecuteTime": {
     "end_time": "2021-08-08T14:46:58.319192Z",
     "start_time": "2021-08-08T14:46:58.300122Z"
    },
    "scrolled": true
   },
   "outputs": [],
   "source": [
    "%config IPCompleter.greedy=False"
   ]
  }
 ],
 "metadata": {
  "kernelspec": {
   "display_name": "Python 3",
   "language": "python",
   "name": "python3"
  },
  "language_info": {
   "codemirror_mode": {
    "name": "ipython",
    "version": 3
   },
   "file_extension": ".py",
   "mimetype": "text/x-python",
   "name": "python",
   "nbconvert_exporter": "python",
   "pygments_lexer": "ipython3",
   "version": "3.6.13"
  }
 },
 "nbformat": 4,
 "nbformat_minor": 5
}
